{
 "cells": [
  {
   "cell_type": "markdown",
   "source": [
    "# Fys245 Oblig \n",
    "### Johan Zapffe og Astrid Moum\n",
    "\n",
    "grpgfsd\n"
   ],
   "metadata": {
    "collapsed": false
   }
  },
  {
   "cell_type": "code",
   "execution_count": null,
   "outputs": [],
   "source": [
    "import numpy as np"
   ],
   "metadata": {
    "collapsed": false,
    "pycharm": {
     "name": "#%%\n"
    }
   }
  },
  {
   "cell_type": "markdown",
   "source": [
    "## Oppgave 1"
   ],
   "metadata": {
    "collapsed": false
   }
  },
  {
   "cell_type": "code",
   "execution_count": null,
   "outputs": [],
   "source": [
    "h_bar = 6.582 * 1e-16  # [eV*s]\n",
    "m = 9.11 * 1e-31  # mass of electron [kg]\n",
    "\n",
    "E = np.array([0.20, 0.30])  # [eV]\n",
    "V0 = 0.16  # [eV]\n",
    "\n",
    "def T(E, V0):\n",
    "    \"\"\"\n",
    "    Funksjon for å kalkulere transmissjonskoeffisienten til en partikkel beskrevet som en planbølge\n",
    "    \n",
    "    Inputs\n",
    "    ------\n",
    "    E - ndarray\n",
    "        1D numpy array av energier til de innkommende planbølgene\n",
    "    \n",
    "    V0 - float\n",
    "        Den potensielle energien til potensialtrinnet\n",
    "    \n",
    "    Returns\n",
    "    -------\n",
    "    T - float\n",
    "        Transmisjonskoeffisienten. I intervallet [0,1]\n",
    "    \n",
    "    \"\"\"\n",
    "    k = np.sqrt(2*m*E) / h_bar\n",
    "    k0 = np.sqrt(2*m*(E-V0)) / h_bar\n",
    "    T = (4*k*k0)/(k+k0)**2\n",
    "    \n",
    "    return T\n",
    "    \n",
    "# Make a plot of the transmission coefficient\n",
    "print(T(E,V0))\n"
   ],
   "metadata": {
    "collapsed": false,
    "pycharm": {
     "name": "#%%\n"
    }
   }
  },
  {
   "cell_type": "markdown",
   "metadata": {
    "collapsed": true
   },
   "source": []
  },
  {
   "cell_type": "code",
   "execution_count": 1,
   "metadata": {},
   "outputs": [],
   "source": [
    "import numpy as np"
   ]
  },
  {
   "cell_type": "markdown",
   "metadata": {},
   "source": [
    "## Oppgave 1"
   ]
  },
  {
   "cell_type": "code",
   "execution_count": 10,
   "metadata": {},
   "outputs": [
    {
     "name": "stdout",
     "output_type": "stream",
     "text": [
      "[0.85410197 0.9645573 ]\n"
     ]
    }
   ],
   "source": [
    "h_bar = 6.582 * 1e-16  # [eV*s]\n",
    "m = 9.11 * 1e-31  # mass of electron [kg]\n",
    "\n",
    "E = np.array([0.20, 0.30])  # [eV]\n",
    "V0 = 0.16  # [eV]\n",
    "\n",
    "def T(E, V0):\n",
    "    \"\"\"\n",
    "    Funksjon for å kalkulere transmissjonskoeffisienten til en partikkel beskrevet som en planbølge\n",
    "    \n",
    "    Inputs\n",
    "    ------\n",
    "    E - ndarray\n",
    "        1D numpy array av energier til de innkommende planbølgene\n",
    "    \n",
    "    V0 - float\n",
    "        Den potensielle energien til potensialtrinnet\n",
    "    \n",
    "    Returns\n",
    "    -------\n",
    "    T - float\n",
    "        Transmisjonskoeffisienten. I intervallet [0,1]\n",
    "    \n",
    "    \"\"\"\n",
    "    k = np.sqrt(2*m*E) / h_bar\n",
    "    k0 = np.sqrt(2*m*(E-V0)) / h_bar\n",
    "    T = (4*k*k0)/(k+k0)**2\n",
    "    \n",
    "    return T\n",
    "    \n",
    "# Make a plot of the transmission coefficient\n",
    "print(T(E,V0))\n"
   ]
  },
  {
   "cell_type": "code",
   "execution_count": null,
   "metadata": {},
   "outputs": [],
   "source": []
  }
 ],
 "metadata": {
  "kernelspec": {
   "display_name": "Python 3",
   "language": "python",
   "name": "python3"
  },
  "language_info": {
   "codemirror_mode": {
    "name": "ipython",
    "version": 3
   },
   "file_extension": ".py",
   "mimetype": "text/x-python",
   "name": "python",
   "nbconvert_exporter": "python",
   "pygments_lexer": "ipython3",
   "version": "3.8.3"
  }
 },
 "nbformat": 4,
 "nbformat_minor": 1
}