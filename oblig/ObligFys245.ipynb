{
 "cells": [
  {
   "cell_type": "markdown",
   "metadata": {
    "collapsed": true
   },
   "source": [
    "# Fys245 Oblig \n",
    "### Johan Zapffe og Astrid Moum\n",
    "\n",
    "grpgfsd\n"
   ]
  },
  {
   "cell_type": "code",
   "execution_count": 2,
   "metadata": {},
   "outputs": [],
   "source": [
    "import numpy as np\n",
    "import matplotlib.pyplot as plt\n",
    "import math\n",
    "import seaborn as sns"
   ]
  },
  {
   "cell_type": "markdown",
   "metadata": {},
   "source": [
    "## Oppgave 1\n",
    "Beregn transmissjonskoeffisienten til en partikkel beskrevet som en planbølge. \n",
    "Planbølgen har økende energier fra 20 eV.\n",
    "\n",
    "Trinnpotensial med E > V0. Planbølge kommer inn fra venstre og treffer potensialtrinnet (Sett inn figur?)"
   ]
  },
  {
   "cell_type": "code",
   "execution_count": 3,
   "metadata": {},
   "outputs": [
    {
     "data": {
      "image/png": "[encoded data removed]",
      "text/plain": [
       "<Figure size 432x288 with 1 Axes>"
      ]
     },
     "metadata": {
      "needs_background": "light"
     },
     "output_type": "display_data"
    }
   ],
   "source": [
    "h_bar = 6.582 * 1e-16  # [eV*s]\n",
    "m = 9.11 * 1e-31  # mass of electron [kg]\n",
    "\n",
    "E = np.linspace(0.20, 2, 100)  # [eV]\n",
    "V0 = 0.16  # [eV]\n",
    "\n",
    "def T(E, V0):\n",
    "    \"\"\"\n",
    "    Funksjon for å kalkulere transmissjonskoeffisienten til en partikkel beskrevet som en planbølge.\n",
    "    Transmissjonskoeffisienten vil være i intervallet [0,1]. Dette beskriver prosentandelen av bølgen som\n",
    "    transmitteres\n",
    "    \n",
    "    Inputs\n",
    "    ------\n",
    "    E - ndarray\n",
    "        1D numpy array av energier til de innkommende planbølgene\n",
    "    \n",
    "    V0 - float\n",
    "        Den potensielle energien til potensialtrinnet\n",
    "    \n",
    "    Returns\n",
    "    -------\n",
    "    T - ndarray\n",
    "        1D numpy array av transmisjonskoeffisientene. I intervallet [0,1]\n",
    "    \n",
    "    \"\"\"\n",
    "    k = np.sqrt(2*m*E) / h_bar\n",
    "    k0 = np.sqrt(2*m*(E-V0)) / h_bar\n",
    "    T = (4*k*k0)/(k+k0)**2\n",
    "    \n",
    "    return T\n",
    "    \n",
    "# Lager et plot av transmissjonskoeffisienten ved ulike verdier for energi\n",
    "plt.plot(E, T(E,V0))\n",
    "plt.title(\"Transmisjonskoeffisienten ved ulike energiverdier for planbølge\")\n",
    "plt.xlabel(\"E / [eV]\", fontsize=12)\n",
    "plt.show()"
   ]
  },
  {
   "cell_type": "markdown",
   "metadata": {},
   "source": [
    "## Oppgave 2\n"
   ]
  },
  {
   "cell_type": "markdown",
   "metadata": {},
   "source": [
    "### Stationary states\n"
   ]
  },
  {
   "cell_type": "code",
   "execution_count": 4,
   "metadata": {},
   "outputs": [],
   "source": [
    "def psi_n(L, x, n):\n",
    "    \"\"\"\n",
    "    Funsjon for å finne den n'te stasjonære tilstanden til ??.\n",
    "    \n",
    "    Inputs\n",
    "    ------\n",
    "    L - \n",
    "    x -\n",
    "    n - \n",
    "    \n",
    "    Returns\n",
    "    -------\n",
    "    \n",
    "    \n",
    "    \"\"\"\n",
    "    return np.sqrt(2/L) * np.sin(n * np.pi * x / L )\n",
    "\n"
   ]
  },
  {
   "cell_type": "markdown",
   "metadata": {},
   "source": [
    "### Bølgepakken"
   ]
  },
  {
   "cell_type": "code",
   "execution_count": 5,
   "metadata": {},
   "outputs": [],
   "source": [
    "sigma = 1* 1e-8  # [m]\n",
    "E = 0.20  # [eV]\n",
    "V0 = 0.16  # [eV]\n",
    "m = 9.11 * 1e-31  # [kg]\n",
    "x0 = 50 * 1e-9  # [m]\n",
    "L = 200 * 1e-9  # [m]\n",
    "\n",
    "t = 0\n",
    "delta_t = 2.25 * 1e-19  # [s]\n",
    "delta_x = 1.5 * 1e-10  # [m]\n",
    "\n",
    "#def SL_tidsavh(x):\n",
    "#    \"\"\"\n",
    "#    \n",
    "#    \"\"\"\n",
    "#    phi_t = math.exp(1j*E*t/h_bar)\n",
    "#    return -h_bar**2 / (2*m) *2nd_d_phi() + V(x) * phi(x)*phi_t \n",
    "\n",
    "def V(x):\n",
    "    \"\"\"\n",
    "    The potential energy of the particle. Will be infinite \n",
    "    \n",
    "    Returns:\n",
    "    --------\n",
    "    float\n",
    "        The potential energy of the particle   \n",
    "    \"\"\"\n",
    "    inf=math.exp(15)\n",
    "    \n",
    "    if x < 0 or x > 200:\n",
    "        return inf\n",
    "    if 0 < x < 100:\n",
    "        return 0\n",
    "    else:\n",
    "        return V0\n",
    "    \n",
    "\n",
    "def d_t_phi(x, t):\n",
    "    \"\"\"\n",
    "    Funksjon for å regne ut den tidsderiverte av den tidsavhengige Shrödingerlikningen\n",
    "    \n",
    "    Returns\n",
    "    -------\n",
    "    float\n",
    "        den tidsderiverte av den tidsavhengige Shrödingerlikningen\n",
    "    \n",
    "    See Also\n",
    "    --------\n",
    "    phi(x, t)\n",
    "        Den tidsavhengige bølgefunksjonen\n",
    "    \"\"\"\n",
    "    return (phi(x, t+delta_t) - phi(x, t)) /  delta_t\n",
    "\n",
    "\n",
    "def snd_d_x_phi(x, t):\n",
    "    \"\"\"\n",
    "    Funksjon for å regne ut den andrederiverte av posisjon fra den tidsavhengige Shrödingerlikningen\n",
    "    \n",
    "    Returns\n",
    "    -------\n",
    "    float\n",
    "        2nd posisjonsderiverte av den tidsavhengige Shrödingerlikningen\n",
    "    \n",
    "    See Also\n",
    "    --------\n",
    "    phi(x, t)\n",
    "        Den tidsavhengige bølgefunksjonen\n",
    "    \n",
    "    \"\"\"\n",
    "    return (phi(x + delta_x, t) - 2 * phi(x, t)) + phi(x - delta_x, t)/  delta_x**2\n",
    "    \n",
    "\n",
    "\n",
    "def ksi(sigma, x0, dx):\n",
    "    \"\"\"\n",
    "    Den stasjonære bølgelikningen (tidsuavhengig)\n",
    "    \n",
    "    Returns\n",
    "    -------\n",
    "    \"\"\"\n",
    "    k = np.sqrt(2*m*E) / h_bar\n",
    "    x = x_0 + dx\n",
    "    return (1 / (np.pi**(1/4) * np.sqrt(sigma))) * np.exp(-((x-x_0)**2 / (2*sigma**2))) * np.exp(1j*k*(x-x_0))\n",
    "\n",
    "\n",
    "def phi(sigma, x0, x, t):\n",
    "    \"\"\"\n",
    "    Den tidsavhengige bølgefunksjonen\n",
    "    \n",
    "    \"\"\"\n",
    "    return ksi(sigma, x_0) * math.exp(1j*E*t/h_bar)"
   ]
  },
  {
   "cell_type": "markdown",
   "metadata": {},
   "source": [
    "Uttrykket psi I, hva skal det bygge på? Skal det komme av likning 1? Skal det kombineres med likning 4?\n",
    "\n",
    "\n",
    "Hvordan finne c_n?\n",
    "Gjøres ved å numerisk integrere phi_n(komlpekskonjugert)* phi fra -inf til inf\n",
    "\n",
    "\n"
   ]
  },
  {
   "cell_type": "markdown",
   "metadata": {},
   "source": [
    "## Oppgave 3\n",
    "Undersøkelse av hvordan innfallsvinkel påvirker nnsynligheten for at elektroner blir transmittert.\n",
    "Systemet blir beskrevet vha planbølge\n",
    "\n",
    "\n",
    "Beregne T(E, alpha)"
   ]
  },
  {
   "cell_type": "code",
   "execution_count": 47,
   "metadata": {},
   "outputs": [],
   "source": [
    "V0 = 0.16  # [eV]\n",
    "E = np.linspace(0.2, 0.4, 10)  # eV\n",
    "alpha = np.linspace(0, 20, 10)  # degrees\n",
    "\n",
    "\n",
    "#E = 0.2\n",
    "#alpha = 0\n",
    "m = 9.11 * 1e-31  # mass of electron [kg]\n",
    "h_bar = 6.582 * 1e-16  # [eV*s]"
   ]
  },
  {
   "cell_type": "code",
   "execution_count": 64,
   "metadata": {},
   "outputs": [
    {
     "data": {
      "image/png": "[encoded data removed]",
      "text/plain": [
       "<Figure size 1080x1080 with 2 Axes>"
      ]
     },
     "metadata": {
      "needs_background": "light"
     },
     "output_type": "display_data"
    }
   ],
   "source": [
    "def T(E, V0, alpha):\n",
    "    \"\"\"\n",
    "    Funksjon for å beregne transmisjonskoeffisienten avhengig av energien og\n",
    "    og innfallsvinkelen til planbølgen. Vil være i intervallet [0,1]\n",
    "    \n",
    "    Inputs\n",
    "    ------\n",
    "    E - float\n",
    "        Energi til planbølgen\n",
    "    V0- float\n",
    "        Den potensielle energien til potensialtrinnet\n",
    "    alpha - float\n",
    "        Innfallsvinkel til planbølgen\n",
    "    \n",
    "    Returns\n",
    "    -------\n",
    "    float\n",
    "        Transmisjonskoeffisienten til planbølgen\n",
    "    \"\"\"\n",
    "    T = np.zeros([len(E), len(alpha)])\n",
    "    _alpha = np.deg2rad(alpha)\n",
    "    \n",
    "    for i, _E in enumerate(E):\n",
    "        k = np.sqrt(2*m*_E) / h_bar  # likn 9\n",
    "        k_y = k * np.sin(_alpha)  # likn 12\n",
    "    \n",
    "        k0_2 = (np.sqrt(2*m*(_E-V0)) / h_bar) **2\n",
    "        k0_x = np.sqrt(k0_2 - k_y**2)\n",
    "        k0 = np.sqrt(k0_x**2 + k_y**2)\n",
    "    \n",
    "        T[i] = 4 * k * k0 / (k + k0) ** 2\n",
    "    \n",
    "    return T\n",
    "\n",
    "def R(E, alpha):\n",
    "    \"\"\"\n",
    "    Funksjon for å beregne refleksjonskoeffisienten avhengig av energien og\n",
    "    og innfallsvinkelen til planbølgen. Vil være i intervallet [0,1]\n",
    "    \n",
    "    Inputs\n",
    "    ------\n",
    "    E - float\n",
    "        Energi til planbølgen\n",
    "    alpha - float\n",
    "        Innfallsvinkel til planbølgen\n",
    "    \n",
    "    Returns\n",
    "    -------\n",
    "    float\n",
    "        Refleksjonskoeffisienten til planbølgen\n",
    "    \"\"\"\n",
    "    pass\n",
    "\n",
    "\n",
    "T_values = T(E, V0, alpha)\n",
    "\n",
    "fig, ax = plt.subplots(figsize=(15,15)) \n",
    "sns.heatmap(data=T_values, annot=True, fmt='.4g', xticklabels=alpha.round(2), yticklabels=E.round(2))\n",
    "ax.set(xlabel='alpha [degrees]', ylabel='Energy [eV]')\n",
    "plt.show()"
   ]
  },
  {
   "cell_type": "code",
   "execution_count": null,
   "metadata": {},
   "outputs": [],
   "source": []
  },
  {
   "cell_type": "code",
   "execution_count": null,
   "metadata": {},
   "outputs": [],
   "source": []
  }
 ],
 "metadata": {
  "kernelspec": {
   "display_name": "Python 3",
   "language": "python",
   "name": "python3"
  },
  "language_info": {
   "codemirror_mode": {
    "name": "ipython",
    "version": 3
   },
   "file_extension": ".py",
   "mimetype": "text/x-python",
   "name": "python",
   "nbconvert_exporter": "python",
   "pygments_lexer": "ipython3",
   "version": "3.8.3"
  }
 },
 "nbformat": 4,
 "nbformat_minor": 1
}