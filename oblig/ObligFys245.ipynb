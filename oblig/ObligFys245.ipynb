{
 "cells": [
  {
   "cell_type": "markdown",
   "metadata": {
    "collapsed": true
   },
   "source": [
    "# Fys245 Oblig \n",
    "### Johan Zapffe og Astrid Moum\n",
    "\n",
    "grpgfsd\n"
   ]
  },
  {
   "cell_type": "code",
   "execution_count": 1,
   "metadata": {},
   "outputs": [],
   "source": [
    "import numpy as np\n",
    "import matplotlib.pyplot as plt"
   ]
  },
  {
   "cell_type": "markdown",
   "metadata": {},
   "source": [
    "## Oppgave 1"
   ]
  },
  {
   "cell_type": "code",
   "execution_count": 14,
   "metadata": {},
   "outputs": [
    {
     "data": {
      "image/png": "[encoded data removed]",
      "text/plain": [
       "<Figure size 432x288 with 1 Axes>"
      ]
     },
     "metadata": {
      "needs_background": "light"
     },
     "output_type": "display_data"
    }
   ],
   "source": [
    "h_bar = 6.582 * 1e-16  # [eV*s]\n",
    "m = 9.11 * 1e-31  # mass of electron [kg]\n",
    "\n",
    "E = np.linspace(0.20, 2, 100)  # [eV]\n",
    "V0 = 0.16  # [eV]\n",
    "\n",
    "def T(E, V0):\n",
    "    \"\"\"\n",
    "    Funksjon for å kalkulere transmissjonskoeffisienten til en partikkel beskrevet som en planbølge.\n",
    "    Transmissjonskoeffisienten vil være i intervallet [0,1]. Dette beskriver prosentandelen av bølgen som\n",
    "    transmitteres\n",
    "    \n",
    "    Inputs\n",
    "    ------\n",
    "    E - ndarray\n",
    "        1D numpy array av energier til de innkommende planbølgene\n",
    "    \n",
    "    V0 - float\n",
    "        Den potensielle energien til potensialtrinnet\n",
    "    \n",
    "    Returns\n",
    "    -------\n",
    "    T - ndarray\n",
    "        1D numpy array av transmisjonskoeffisientene. I intervallet [0,1]\n",
    "    \n",
    "    \"\"\"\n",
    "    k = np.sqrt(2*m*E) / h_bar\n",
    "    k0 = np.sqrt(2*m*(E-V0)) / h_bar\n",
    "    T = (4*k*k0)/(k+k0)**2\n",
    "    \n",
    "    return T\n",
    "    \n",
    "# Make a plot of the transmission coefficient\n",
    "plt.plot(E, T(E,V0))\n",
    "plt.title=(\"Transmisjonskoeffisienten\")\n",
    "plt.ylabel(\"Sannsynligheten for transmisjon\", fontsize=12)\n",
    "plt.xlabel(\"E / [eV]\", fontsize=12)\n",
    "plt.show()\n"
   ]
  },
  {
   "cell_type": "code",
   "execution_count": null,
   "metadata": {},
   "outputs": [],
   "source": []
  }
 ],
 "metadata": {
  "kernelspec": {
   "display_name": "Python 3",
   "language": "python",
   "name": "python3"
  },
  "language_info": {
   "codemirror_mode": {
    "name": "ipython",
    "version": 3
   },
   "file_extension": ".py",
   "mimetype": "text/x-python",
   "name": "python",
   "nbconvert_exporter": "python",
   "pygments_lexer": "ipython3",
   "version": "3.8.3"
  }
 },
 "nbformat": 4,
 "nbformat_minor": 1
}