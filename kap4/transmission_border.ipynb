{
 "cells": [
  {
   "cell_type": "markdown",
   "metadata": {
    "collapsed": true
   },
   "source": [
    "## Import modules\n"
   ]
  },
  {
   "cell_type": "code",
   "execution_count": 32,
   "metadata": {},
   "outputs": [],
   "source": [
    "import numpy as np\n",
    "import matplotlib.pyplot as plt\n",
    "\n",
    "from ipywidgets.widgets import interact, Layout"
   ]
  },
  {
   "cell_type": "markdown",
   "metadata": {},
   "source": [
    "## Transmission Across Potential Barrier"
   ]
  },
  {
   "cell_type": "code",
   "execution_count": 30,
   "metadata": {},
   "outputs": [
    {
     "data": {
      "image/png": "[encoded data removed]",
      "text/plain": [
       "<Figure size 432x288 with 1 Axes>"
      ]
     },
     "metadata": {
      "needs_background": "light"
     },
     "output_type": "display_data"
    }
   ],
   "source": [
    "m = 9.11 * 1e-31\n",
    "V0 = 5\n",
    "alpha = 5\n",
    "h_bar = 1.05 * 1e-34\n",
    "\n",
    "def T_1(E, V0, alpha):\n",
    "    \"\"\"Transmission from task 4.26 for when E < V0\"\"\"\n",
    "    k = np.sqrt(2 * m * E) / h_bar\n",
    "    kappa = np.sqrt(2 * m * (V0 - E)) / h_bar\n",
    "    return 1/ (1 + (k ** 2 + kappa ** 2) ** 2 * (np.sinh(kappa * alpha) ** 2) / (2 * k * kappa) ** 2)\n",
    "    \n",
    "def T_2(E, V0, alpha):\n",
    "    \"\"\"Transmission from task 4.28 for when E > V0\"\"\"\n",
    "    k = np.sqrt(2 * m * E) / h_bar\n",
    "    k0 = np.sqrt(2 * m * (E - V0)) / h_bar\n",
    "    return (1 + (((k ** 2 - k0 ** 2) ** 2) * (np.sin(k0 * alpha) ** 2)) / (4 * (k ** 2) * (k0 ** 2))) ** (-1)\n",
    "\n",
    "def plot_barrier_transmission(V0_, alpha_):\n",
    "    V0_ = V0_ * 1.6 * 1e-19 # Gjør om fra eV til Joule\n",
    "    alpha_ = alpha_ * 1e-9 # ??\n",
    "    \n",
    "    E = np.linspace(0.1, 0.999, 1000) * V0_\n",
    "    T = T_1(E, V0_, alpha_)\n",
    "    plt.plot(E/(1.6*1e-19), T, color='b')\n",
    "    \n",
    "    E = np.linspace(1.001, 1.3, 1000) * V0_\n",
    "    T = T_2(E, V0_, alpha_)\n",
    "    plt.plot(E/(1.6*1e-19), T, color='b')\n",
    "    \n",
    "    plt.axvline(V0_ / (1.6 * 1e-19), linestyle=\"dashed\")\n",
    "    plt.xlabel(r\"$E\\;[J]$\")\n",
    "    plt.ylabel(r\"$T$\", rotation=0)\n",
    "\n",
    "plot_barrier_transmission(V0, alpha)"
   ]
  },
  {
   "cell_type": "code",
   "execution_count": 33,
   "metadata": {},
   "outputs": [
    {
     "data": {
      "application/vnd.jupyter.widget-view+json": {
       "model_id": "42756a45991245aeb8582384cac9861a",
       "version_major": 2,
       "version_minor": 0
      },
      "text/plain": [
       "interactive(children=(FloatSlider(value=5.0, description='V0_', max=10.0, min=1.0, step=1.0), FloatSlider(valu…"
      ]
     },
     "metadata": {},
     "output_type": "display_data"
    }
   ],
   "source": [
    "interact(plot_barrier_transmission, V0_=(1., 10, 1), alpha_=(0.1, 3, .2))\n",
    "plt.show()"
   ]
  },
  {
   "cell_type": "markdown",
   "metadata": {},
   "source": [
    "# Ramsauser-Townsend Effect"
   ]
  },
  {
   "cell_type": "code",
   "execution_count": 43,
   "metadata": {},
   "outputs": [
    {
     "data": {
      "image/png": "[encoded data removed]",
      "text/plain": [
       "<Figure size 432x288 with 1 Axes>"
      ]
     },
     "metadata": {
      "needs_background": "light"
     },
     "output_type": "display_data"
    }
   ],
   "source": [
    "# Fra oppgave 4.28\n",
    "\n",
    "m = 9.11 * 1e-31\n",
    "V0 = 10\n",
    "alpha = 0.5\n",
    "h_bar = 1.05 * 1e-34\n",
    "\n",
    "def plot_ramsauer(V0_, alpha_):\n",
    "    V0_ = V0_ * 1.6 * 1e-19 # Gjør om fra eV til Joule\n",
    "    alpha_ = alpha_ * 1e-9 # ??\n",
    "    \n",
    "    E = np.linspace(.1, 2, 1000) * V0_\n",
    "    plt.plot(E/(1.6 * 1e-19), T_2(E, -V0_, alpha_))\n",
    "    plt.axvline(V0_ / (1.6 * 1e-19), linestyle='dashed')\n",
    "    plt.xlabel(r\" $4E \\;[eV]$\")\n",
    "    plt.ylabel(r\"$T$\", rotation=0)\n",
    "    plt.show()\n",
    "    \n",
    "plot_ramsauer(V0, alpha)\n",
    "\n",
    "# Ramsauer sier at dersom man har en edelgas"
   ]
  },
  {
   "cell_type": "code",
   "execution_count": 46,
   "metadata": {},
   "outputs": [
    {
     "data": {
      "application/vnd.jupyter.widget-view+json": {
       "model_id": "54b7791320694fe5bb5b376cfa271543",
       "version_major": 2,
       "version_minor": 0
      },
      "text/plain": [
       "interactive(children=(FloatSlider(value=4.1, description='V0_', max=10.0, min=0.1, step=1.0), FloatSlider(valu…"
      ]
     },
     "metadata": {},
     "output_type": "display_data"
    }
   ],
   "source": [
    "interact(plot_ramsauer, V0_=(0.1, 10, 1), alpha_=(0.01, 3, .2))\n",
    "plt.show()"
   ]
  },
  {
   "cell_type": "code",
   "execution_count": null,
   "metadata": {},
   "outputs": [],
   "source": []
  }
 ],
 "metadata": {
  "kernelspec": {
   "display_name": "Python 3",
   "language": "python",
   "name": "python3"
  },
  "language_info": {
   "codemirror_mode": {
    "name": "ipython",
    "version": 3
   },
   "file_extension": ".py",
   "mimetype": "text/x-python",
   "name": "python",
   "nbconvert_exporter": "python",
   "pygments_lexer": "ipython3",
   "version": "3.8.3"
  }
 },
 "nbformat": 4,
 "nbformat_minor": 1
}
