{
 "cells": [
  {
   "cell_type": "markdown",
   "metadata": {
    "collapsed": true
   },
   "source": [
    "## Import modules"
   ]
  },
  {
   "cell_type": "code",
   "execution_count": 1,
   "metadata": {},
   "outputs": [],
   "source": [
    "import matplotlib.pyplot as plt\n",
    "import numpy as np\n"
   ]
  },
  {
   "cell_type": "markdown",
   "source": [
    "## Stationary states"
   ],
   "metadata": {
    "collapsed": false
   }
  },
  {
   "cell_type": "code",
   "execution_count": null,
   "outputs": [],
   "source": [
    "# Define function witch gives the energy eigenstates\n",
    "\n",
    "def psi_n(L, x, n):\n",
    "    \"\"\"\n",
    "    Returns the n'th stationary state of the infinite well.\n",
    "    \"\"\"\n",
    "    return np.sqrt(2/L) * np.sin(n * np.pi * x / L )\n",
    "\n",
    "# Define functions which calculate the expectation value (forventningsverdi)\n",
    "def x_exp(psi, x):\n",
    "    \"\"\"\n",
    "    Estimates the expectation value of the position.\n",
    "    \"\"\"\n",
    "    dx = np.abs(x[1] - x[0]) # (Størrelsen på rektanglene man bruker til å approksimere integralet)\n",
    "    psi2 = np.abs(psi) ** 2\n",
    "    integrand = x * psi2\n",
    "    return integrand.sum()*dx # Calculate the integral (midtpunktmetoden)\n",
    "\n",
    "\n",
    "def p_exp(psi, x):\n",
    "    \"\"\"\n",
    "    Estimates the expectation value of the momentum.\n",
    "    \"\"\"\n",
    "    dx = np.abs(x[1] - x[0])\n",
    "    dpsi_dx = (psi[1:] - psi[:-1]) / dx\n",
    "    integrand = -1j * np.conj(psi[:-1]) * dpsi_dx\n",
    "    return (integrand[1:-1].sum() + 0.5*(integrand[0] + integrand[-1]))*dx # Trapesmetoden brukes for å regne ut integralet\n",
    "\n"
   ],
   "metadata": {
    "collapsed": false,
    "pycharm": {
     "name": "#%%\n"
    }
   }
  },
  {
   "cell_type": "code",
   "execution_count": null,
   "outputs": [],
   "source": [
    "# Set parameters \n",
    "L = 5                         \n",
    "n = 2\n",
    "\n",
    "# Accuracy of numerical differentiation and integration depend\n",
    "# on the size of dx \n",
    "x = np.linspace(0, L, int(1e5))   \n",
    "dx = x[1] - x[0]\n",
    "\n",
    "psi = psi_n(L=L, x=x, n=n)\n",
    "plt.plot(x, psi, label=r\"$\\psi(x)$\")\n",
    "\n",
    "dpsi_dx = (psi[1:] - psi[:-1]) / dx\n",
    "plt.plot(x[1:], dpsi_dx, label=r\"$\\frac{d\\psi(x)}{dx}$\")\n",
    "\n",
    "plt.xlabel(\"x\", fontsize=12)\n",
    "plt.legend(fontsize=12)\n",
    "plt.show()\n",
    "\n",
    "print(\"Expectation value of position: \", x_exp(psi, x)) \n",
    "print(\"Expectation value of momentum: \", p_exp(psi, x))"
   ],
   "metadata": {
    "collapsed": false,
    "pycharm": {
     "name": "#%%\n"
    }
   }
  },
  {
   "cell_type": "code",
   "execution_count": null,
   "outputs": [],
   "source": [
    "from ipywidgets.widgets import interact, Layout\n",
    "\n",
    "xmin = -1\n",
    "ymin = -0.5\n",
    "ymax = 1.25\n",
    "Lmax = 5\n",
    "\n",
    "def plot_stationary_state(L, n):\n",
    "    \n",
    "    plt.figure(figsize=(12, 6))\n",
    "    \n",
    "    x = np.linspace(0, L, 100)\n",
    "    plt.plot(x, np.abs(psi_n(L, x, n))**2, \n",
    "             lw=2, \n",
    "             alpha=0.7, \n",
    "             label=r'$|\\psi_{}(x)|^2$'.format(str(n))) \n",
    "        \n",
    "    plt.ylim(ymin, ymax)\n",
    "    plt.xlim(xmin, Lmax + 1)\n",
    "    plt.axvspan(L, Lmax + 1, fc='gray')\n",
    "    plt.axvspan(-Lmax, 0, fc='gray')\n",
    "    plt.axhspan(0, ymin, fc='gray')\n",
    "    plt.xlabel(r'$x$', fontsize=20)\n",
    "    plt.legend(fontsize=20, \n",
    "           bbox_to_anchor=(0.6, 1.2))\n",
    "    plt.show()"
   ],
   "metadata": {
    "collapsed": false,
    "pycharm": {
     "name": "#%%\n"
    }
   }
  },
  {
   "cell_type": "code",
   "execution_count": null,
   "outputs": [],
   "source": [
    "interact(plot_stationary_state, L=(1.5, Lmax, 0.25), n=(1, 8, 1))\n",
    "plt.show()"
   ],
   "metadata": {
    "collapsed": false,
    "pycharm": {
     "name": "#%%\n"
    }
   }
  },
  {
   "cell_type": "markdown",
   "source": [
    "## General States"
   ],
   "metadata": {
    "collapsed": false
   }
  },
  {
   "cell_type": "code",
   "execution_count": null,
   "outputs": [],
   "source": [
    "def general_state(cn_dict, x, L):\n",
    "    \"\"\"\n",
    "    Gives a general state as a linear combination of \n",
    "    stationary states. Coefficients should be given in cn_dict.\n",
    "    \"\"\"\n",
    "    norm_factor = sum([cn**2 for cn in cn_dict.values()])\n",
    "    Psi = np.zeros(shape=x.shape)\n",
    "    \n",
    "    for n, cn in cn_dict.items():\n",
    "        normd_coef = cn / np.sqrt(norm_factor)\n",
    "        Psi += normd_coef * psi_n(L, x, n)\n",
    "        \n",
    "    return Psi"
   ],
   "metadata": {
    "collapsed": false,
    "pycharm": {
     "name": "#%%\n"
    }
   }
  },
  {
   "cell_type": "code",
   "execution_count": null,
   "outputs": [],
   "source": [
    "def plot_general_state(cn_dict, L):\n",
    "    \n",
    "    plt.figure(figsize=(12, 6))\n",
    "    x = np.linspace(0, L, 500)\n",
    "    Psi = general_state(cn_dict, x, L)\n",
    "    norm_factor = sum([cn**2 for cn in cn_dict.values()])\n",
    "    \n",
    "    T = r\"$\\psi(x) = $\"\n",
    "    for i, (n, cn) in enumerate(cn_dict.items()):\n",
    "        if cn != 0:\n",
    "            T += r'$ + \\frac{{{}}}{{\\sqrt{{{}}}}} \\psi_{{{}}}(x)$'.format(cn, norm_factor, n)\n",
    "\n",
    "    plt.plot(x, np.abs(Psi)**2, lw=2, alpha=0.7, label = r\"$|\\psi(x)|^2$\") \n",
    "        \n",
    "    plt.ylim(ymin, ymax)\n",
    "    plt.xlim(xmin, Lmax + 1)\n",
    "    plt.axvspan(L, Lmax + 1, fc='gray')\n",
    "    plt.axvspan(-Lmax, 0, fc='gray')\n",
    "    plt.axhspan(0, ymin, fc='gray')\n",
    "    plt.xlabel(r'$x$', fontsize=20)\n",
    "    plt.title(T, fontsize=20)\n",
    "    plt.legend(fontsize=20)\n",
    "    plt.show()"
   ],
   "metadata": {
    "collapsed": false,
    "pycharm": {
     "name": "#%%\n"
    }
   }
  },
  {
   "cell_type": "code",
   "execution_count": null,
   "outputs": [],
   "source": [
    "L = 4\n",
    "x = np.linspace(0, L, 100)\n",
    "xmin = -1\n",
    "ymin = -0.25\n",
    "ymax = 1.5\n",
    "Lmax = L\n",
    "\n",
    "cn_dict = {1: 0, \n",
    "           2: 2, \n",
    "           3: 1,\n",
    "           4: 2,\n",
    "           150: 1}\n",
    "\n",
    "plot_general_state(cn_dict, L)"
   ],
   "metadata": {
    "collapsed": false,
    "pycharm": {
     "name": "#%%\n"
    }
   }
  },
  {
   "cell_type": "markdown",
   "source": [
    "## Time dependence"
   ],
   "metadata": {
    "collapsed": false
   }
  },
  {
   "cell_type": "code",
   "execution_count": null,
   "outputs": [],
   "source": [
    "def psi_t(n, x, L, t):\n",
    "    En = n**2 * np.pi**2 / (2 * L**2)\n",
    "    return np.sqrt(2/L) * np.sin(n * np.pi * x / L) * np.exp(-1j * En * t )"
   ],
   "metadata": {
    "collapsed": false,
    "pycharm": {
     "name": "#%%\n"
    }
   }
  },
  {
   "cell_type": "code",
   "execution_count": null,
   "outputs": [],
   "source": [
    "def general_state_t(cn_dict, x, L, t):\n",
    "    \n",
    "    norm_factor = sum([cn**2 for cn in cn_dict.values()])\n",
    "    \n",
    "    Psi = np.zeros(shape=x.shape, dtype=np.complex128)\n",
    "    for n, cn in cn_dict.items():\n",
    "        normd_coef = cn / np.sqrt(norm_factor)\n",
    "        Psi += complex(normd_coef) * psi_t(n, x, L, t)\n",
    "        \n",
    "    return Psi"
   ],
   "metadata": {
    "collapsed": false,
    "pycharm": {
     "name": "#%%\n"
    }
   }
  },
  {
   "cell_type": "markdown",
   "metadata": {},
   "source": [
    "def general_state_t(cn_dict, x, L, t):\n",
    "    \n",
    "    norm_factor = sum([cn**2 for cn in cn_dict.values()])\n",
    "    \n",
    "    Psi = np.zeros(shape=x.shape, dtype=np.complex128)\n",
    "    for n, cn in cn_dict.items():\n",
    "        normd_coef = cn / np.sqrt(norm_factor)\n",
    "        Psi += complex(normd_coef) * psi_t(n, x, L, t)\n",
    "        \n",
    "    return Psi"
   ]
  },
  {
   "cell_type": "code",
   "execution_count": 3,
   "metadata": {},
   "outputs": [],
   "source": [
    "# Define function witch gives the energy eigenstates\n",
    "\n",
    "def psi_n(L, x, n):\n",
    "    \"\"\"\n",
    "    Returns the n'th stationary state of the infinite well.\n",
    "    \"\"\"\n",
    "    return np.sqrt(2/L) * np.sin(n * np.pi * x / L )\n",
    "\n",
    "# Define functions which calculate the expectation value (forventningsverdi)\n",
    "def x_exp(psi, x):\n",
    "    \"\"\"\n",
    "    Estimates the expectation value of the position.\n",
    "    \"\"\"\n",
    "    dx = np.abs(x[1] - x[0]) # (Størrelsen på rektanglene man bruker til å approksimere integralet)\n",
    "    psi2 = np.abs(psi) ** 2\n",
    "    integrand = x * psi2\n",
    "    return integrand.sum()*dx # Calculate the integral (midtpunktmetoden)\n",
    "\n",
    "\n",
    "def p_exp(psi, x):\n",
    "    \"\"\"\n",
    "    Estimates the expectation value of the momentum.\n",
    "    \"\"\"\n",
    "    dx = np.abs(x[1] - x[0])\n",
    "    dpsi_dx = (psi[1:] - psi[:-1]) / dx\n",
    "    integrand = -1j * np.conj(psi[:-1]) * dpsi_dx\n",
    "    return (integrand[1:-1].sum() + 0.5*(integrand[0] + integrand[-1]))*dx # Trapesmetoden brukes for å regne ut integralet\n",
    "\n"
   ]
  },
  {
   "cell_type": "code",
   "execution_count": 4,
   "metadata": {},
   "outputs": [
    {
     "data": {
      "image/png": "[encoded data removed]",
      "text/plain": [
       "<Figure size 432x288 with 1 Axes>"
      ]
     },
     "metadata": {
      "needs_background": "light"
     },
     "output_type": "display_data"
    },
    {
     "name": "stdout",
     "output_type": "stream",
     "text": [
      "Expectation value of position:  2.5\n",
      "Expectation value of momentum:  3.947802279534417e-05j\n"
     ]
    }
   ],
   "source": [
    "# Set parameters \n",
    "L = 5                         \n",
    "n = 2\n",
    "\n",
    "# Accuracy of numerical differentiation and integration depend\n",
    "# on the size of dx \n",
    "x = np.linspace(0, L, int(1e5))   \n",
    "dx = x[1] - x[0]\n",
    "\n",
    "psi = psi_n(L=L, x=x, n=n)\n",
    "plt.plot(x, psi, label=r\"$\\psi(x)$\")\n",
    "\n",
    "dpsi_dx = (psi[1:] - psi[:-1]) / dx\n",
    "plt.plot(x[1:], dpsi_dx, label=r\"$\\frac{d\\psi(x)}{dx}$\")\n",
    "\n",
    "plt.xlabel(\"x\", fontsize=12)\n",
    "plt.legend(fontsize=12)\n",
    "plt.show()\n",
    "\n",
    "print(\"Expectation value of position: \", x_exp(psi, x)) \n",
    "print(\"Expectation value of momentum: \", p_exp(psi, x))"
   ]
  },
  {
   "cell_type": "code",
   "execution_count": 7,
   "metadata": {},
   "outputs": [],
   "source": [
    "from ipywidgets.widgets import interact, Layout\n",
    "\n",
    "xmin = -1\n",
    "ymin = -0.5\n",
    "ymax = 1.25\n",
    "Lmax = 5\n",
    "\n",
    "def plot_stationary_state(L, n):\n",
    "    \n",
    "    plt.figure(figsize=(12, 6))\n",
    "    \n",
    "    x = np.linspace(0, L, 100)\n",
    "    plt.plot(x, np.abs(psi_n(L, x, n))**2, \n",
    "             lw=2, \n",
    "             alpha=0.7, \n",
    "             label=r'$|\\psi_{}(x)|^2$'.format(str(n))) \n",
    "        \n",
    "    plt.ylim(ymin, ymax)\n",
    "    plt.xlim(xmin, Lmax + 1)\n",
    "    plt.axvspan(L, Lmax + 1, fc='gray')\n",
    "    plt.axvspan(-Lmax, 0, fc='gray')\n",
    "    plt.axhspan(0, ymin, fc='gray')\n",
    "    plt.xlabel(r'$x$', fontsize=20)\n",
    "    plt.legend(fontsize=20, \n",
    "           bbox_to_anchor=(0.6, 1.2))\n",
    "    plt.show()"
   ]
  },
  {
   "cell_type": "code",
   "execution_count": 8,
   "metadata": {},
   "outputs": [
    {
     "data": {
      "application/vnd.jupyter.widget-view+json": {
       "model_id": "2842280299df48e98760dc3c77094b4a",
       "version_major": 2,
       "version_minor": 0
      },
      "text/plain": [
       "interactive(children=(FloatSlider(value=3.25, description='L', max=5.0, min=1.5, step=0.25), IntSlider(value=4…"
      ]
     },
     "metadata": {},
     "output_type": "display_data"
    }
   ],
   "source": [
    "interact(plot_stationary_state, L=(1.5, Lmax, 0.25), n=(1, 8, 1))\n",
    "plt.show()"
   ]
  },
  {
   "cell_type": "markdown",
   "metadata": {},
   "source": [
    "## General States"
   ]
  },
  {
   "cell_type": "code",
   "execution_count": 9,
   "metadata": {},
   "outputs": [],
   "source": [
    "def general_state(cn_dict, x, L):\n",
    "    \"\"\"\n",
    "    Gives a general state as a linear combination of \n",
    "    stationary states. Coefficients should be given in cn_dict.\n",
    "    \"\"\"\n",
    "    norm_factor = sum([cn**2 for cn in cn_dict.values()])\n",
    "    Psi = np.zeros(shape=x.shape)\n",
    "    \n",
    "    for n, cn in cn_dict.items():\n",
    "        normd_coef = cn / np.sqrt(norm_factor)\n",
    "        Psi += normd_coef * psi_n(L, x, n)\n",
    "        \n",
    "    return Psi"
   ]
  },
  {
   "cell_type": "code",
   "execution_count": 10,
   "metadata": {},
   "outputs": [],
   "source": [
    "def plot_general_state(cn_dict, L):\n",
    "    \n",
    "    plt.figure(figsize=(12, 6))\n",
    "    x = np.linspace(0, L, 500)\n",
    "    Psi = general_state(cn_dict, x, L)\n",
    "    norm_factor = sum([cn**2 for cn in cn_dict.values()])\n",
    "    \n",
    "    T = r\"$\\psi(x) = $\"\n",
    "    for i, (n, cn) in enumerate(cn_dict.items()):\n",
    "        if cn != 0:\n",
    "            T += r'$ + \\frac{{{}}}{{\\sqrt{{{}}}}} \\psi_{{{}}}(x)$'.format(cn, norm_factor, n)\n",
    "\n",
    "    plt.plot(x, np.abs(Psi)**2, lw=2, alpha=0.7, label = r\"$|\\psi(x)|^2$\") \n",
    "        \n",
    "    plt.ylim(ymin, ymax)\n",
    "    plt.xlim(xmin, Lmax + 1)\n",
    "    plt.axvspan(L, Lmax + 1, fc='gray')\n",
    "    plt.axvspan(-Lmax, 0, fc='gray')\n",
    "    plt.axhspan(0, ymin, fc='gray')\n",
    "    plt.xlabel(r'$x$', fontsize=20)\n",
    "    plt.title(T, fontsize=20)\n",
    "    plt.legend(fontsize=20)\n",
    "    plt.show()"
   ]
  },
  {
   "cell_type": "code",
   "execution_count": 11,
   "metadata": {},
   "outputs": [
    {
     "data": {
      "image/png": "[encoded data removed]",
      "text/plain": [
       "<Figure size 864x432 with 1 Axes>"
      ]
     },
     "metadata": {
      "needs_background": "light"
     },
     "output_type": "display_data"
    }
   ],
   "source": [
    "L = 4\n",
    "x = np.linspace(0, L, 100)\n",
    "xmin = -1\n",
    "ymin = -0.25\n",
    "ymax = 1.5\n",
    "Lmax = L\n",
    "\n",
    "cn_dict = {1: 0, \n",
    "           2: 2, \n",
    "           3: 1,\n",
    "           4: 2,\n",
    "           150: 1}\n",
    "\n",
    "plot_general_state(cn_dict, L)"
   ]
  },
  {
   "cell_type": "markdown",
   "metadata": {},
   "source": [
    "## Time dependence"
   ]
  },
  {
   "cell_type": "code",
   "execution_count": 12,
   "metadata": {},
   "outputs": [],
   "source": [
    "def psi_t(n, x, L, t):\n",
    "    En = n**2 * np.pi**2 / (2 * L**2)\n",
    "    return np.sqrt(2/L) * np.sin(n * np.pi * x / L) * np.exp(-1j * En * t )"
   ]
  },
  {
   "cell_type": "code",
   "execution_count": null,
   "metadata": {},
   "outputs": [],
   "source": [
    "def general_state_t(cn_dict, x, L, t):\n",
    "    \n",
    "    norm_factor = sum([cn**2 for cn in cn_dict.values()])\n",
    "    \n",
    "    Psi = np.zeros(shape=x.shape, dtype=np.complex128)\n",
    "    for n, cn in cn_dict.items():\n",
    "        normd_coef = cn / np.sqrt(norm_factor)\n",
    "        Psi += complex(normd_coef) * psi_t(n, x, L, t)\n",
    "        \n",
    "    return Psi"
   ]
  }
 ],
 "metadata": {
  "kernelspec": {
   "display_name": "Python 3",
   "language": "python",
   "name": "python3"
  },
  "language_info": {
   "codemirror_mode": {
    "name": "ipython",
    "version": 3
   },
   "file_extension": ".py",
   "mimetype": "text/x-python",
   "name": "python",
   "nbconvert_exporter": "python",
   "pygments_lexer": "ipython3",
   "version": "3.8.3"
  }
 },
 "nbformat": 4,
 "nbformat_minor": 1
}